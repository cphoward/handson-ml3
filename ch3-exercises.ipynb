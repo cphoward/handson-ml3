{
  "nbformat": 4,
  "nbformat_minor": 0,
  "metadata": {
    "colab": {
      "provenance": [],
      "authorship_tag": "ABX9TyNHPRkGoLbOJLufxHzhKa5Y",
      "include_colab_link": true
    },
    "kernelspec": {
      "name": "python3",
      "display_name": "Python 3"
    },
    "language_info": {
      "name": "python"
    }
  },
  "cells": [
    {
      "cell_type": "markdown",
      "metadata": {
        "id": "view-in-github",
        "colab_type": "text"
      },
      "source": [
        "<a href=\"https://colab.research.google.com/github/cphoward/handson-ml3/blob/main/ch3-exercises.ipynb\" target=\"_parent\"><img src=\"https://colab.research.google.com/assets/colab-badge.svg\" alt=\"Open In Colab\"/></a>"
      ]
    },
    {
      "cell_type": "code",
      "execution_count": 3,
      "metadata": {
        "id": "VoqHSMOn8286"
      },
      "outputs": [],
      "source": [
        "from sklearn.datasets import fetch_openml\n",
        "\n",
        "mnist = fetch_openml('mnist_784', as_frame=False)"
      ]
    },
    {
      "cell_type": "code",
      "source": [
        "X, y = mnist.data, mnist.target"
      ],
      "metadata": {
        "id": "u5mFVO8s9HIL"
      },
      "execution_count": 9,
      "outputs": []
    },
    {
      "cell_type": "code",
      "source": [
        "X.shape"
      ],
      "metadata": {
        "colab": {
          "base_uri": "https://localhost:8080/"
        },
        "id": "HkqOJqfX9ayi",
        "outputId": "7e5902e2-19a2-46a4-9106-3b58f4d1f160"
      },
      "execution_count": 10,
      "outputs": [
        {
          "output_type": "execute_result",
          "data": {
            "text/plain": [
              "(70000, 784)"
            ]
          },
          "metadata": {},
          "execution_count": 10
        }
      ]
    },
    {
      "cell_type": "code",
      "source": [
        "y.shape"
      ],
      "metadata": {
        "colab": {
          "base_uri": "https://localhost:8080/"
        },
        "id": "ukxvT8j19dJ7",
        "outputId": "cc194b24-a199-43b4-fc9b-fcd0860fd5bc"
      },
      "execution_count": 11,
      "outputs": [
        {
          "output_type": "execute_result",
          "data": {
            "text/plain": [
              "(70000,)"
            ]
          },
          "metadata": {},
          "execution_count": 11
        }
      ]
    },
    {
      "cell_type": "code",
      "source": [
        "y[5]"
      ],
      "metadata": {
        "colab": {
          "base_uri": "https://localhost:8080/",
          "height": 35
        },
        "id": "zEN53Nm-9eEE",
        "outputId": "a018568c-0ab8-447c-c901-2da9be6e89d1"
      },
      "execution_count": 12,
      "outputs": [
        {
          "output_type": "execute_result",
          "data": {
            "text/plain": [
              "'2'"
            ],
            "application/vnd.google.colaboratory.intrinsic+json": {
              "type": "string"
            }
          },
          "metadata": {},
          "execution_count": 12
        }
      ]
    },
    {
      "cell_type": "code",
      "source": [
        "X_train, X_test, y_train, y_test = X[:60000], X[60000:], y[:60000], y[60000:]"
      ],
      "metadata": {
        "id": "D4oQL2DF9tEO"
      },
      "execution_count": 13,
      "outputs": []
    },
    {
      "cell_type": "code",
      "source": [
        "from sklearn.neighbors import KNeighborsClassifier"
      ],
      "metadata": {
        "id": "42BoZVLv9hnu"
      },
      "execution_count": 17,
      "outputs": []
    },
    {
      "cell_type": "code",
      "source": [
        "knn_cls = KNeighborsClassifier()\n",
        "knn_cls.fit(X_train, y_train)\n",
        "baseline_accuracy = knn_cls.score(X_test, y_test)\n",
        "baseline_accuracy"
      ],
      "metadata": {
        "colab": {
          "base_uri": "https://localhost:8080/"
        },
        "id": "eXLGZJBr-6xf",
        "outputId": "7b20ac2a-c5f9-4e8b-cf17-2031a5b6ffb7"
      },
      "execution_count": 16,
      "outputs": [
        {
          "output_type": "execute_result",
          "data": {
            "text/plain": [
              "0.9688"
            ]
          },
          "metadata": {},
          "execution_count": 16
        }
      ]
    },
    {
      "cell_type": "code",
      "source": [
        "# Suggest imports and settings to pass to HalvingRandomSearchCV\n",
        "from sklearn.experimental import enable_halving_search_cv\n",
        "from sklearn.model_selection import HalvingRandomSearchCV\n",
        "\n",
        "from scipy.stats import randint\n",
        "\n",
        "param_distributions = {\n",
        "    \"weights\": [\"uniform\", \"distance\"],\n",
        "    \"n_neighbors\": randint(low=1, high=10)\n",
        "}"
      ],
      "metadata": {
        "id": "HuMTSmiB-i1E"
      },
      "execution_count": 21,
      "outputs": []
    },
    {
      "cell_type": "code",
      "source": [
        "# Let's fine-tune it\n",
        "knn_clf = KNeighborsClassifier()\n",
        "\n",
        "search = HalvingRandomSearchCV(\n",
        "    estimator=knn_clf,\n",
        "    param_distributions=param_distributions,\n",
        "    cv=5,\n",
        "    # number of initial random candidates; adjust to your appetite for exploration\n",
        "    n_candidates=40,\n",
        "    factor=3,                  # how aggressively we halve (3≈“keep ~1/3 each round”)\n",
        "    resource=\"n_samples\",      # grow the number of training samples each round (default)\n",
        "    max_resources=\"auto\",      # use all provided samples at the final round\n",
        "    aggressive_elimination=False,\n",
        "    random_state=42,           # reproducibility\n",
        "    return_train_score=True,\n",
        ")\n",
        "\n",
        "search.fit(X_train, y_train)\n",
        "print(search.best_params_)\n",
        "print(search.best_score_)"
      ],
      "metadata": {
        "colab": {
          "base_uri": "https://localhost:8080/"
        },
        "id": "vh2AoWgV_OGs",
        "outputId": "4981ab5c-0ebc-4884-b293-66db5ace5ed5"
      },
      "execution_count": 22,
      "outputs": [
        {
          "output_type": "stream",
          "name": "stdout",
          "text": [
            "{'n_neighbors': 4, 'weights': 'distance'}\n",
            "0.9114814814814813\n"
          ]
        }
      ]
    },
    {
      "cell_type": "code",
      "source": [
        "search.best_estimator_.fit(X_train, y_train)\n",
        "tuned_accuracy = search.best_estimator_.score(X_test, y_test)\n",
        "tuned_accuracy"
      ],
      "metadata": {
        "colab": {
          "base_uri": "https://localhost:8080/"
        },
        "id": "wjFIF4x2Aray",
        "outputId": "78c5c5fe-eb90-4060-c9bf-b0b4be200368"
      },
      "execution_count": 23,
      "outputs": [
        {
          "output_type": "execute_result",
          "data": {
            "text/plain": [
              "0.9714"
            ]
          },
          "metadata": {},
          "execution_count": 23
        }
      ]
    },
    {
      "cell_type": "code",
      "source": [],
      "metadata": {
        "id": "M5kvap1sBIpl"
      },
      "execution_count": null,
      "outputs": []
    }
  ]
}